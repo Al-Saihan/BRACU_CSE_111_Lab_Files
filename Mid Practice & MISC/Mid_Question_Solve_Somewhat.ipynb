{
 "cells": [
  {
   "cell_type": "markdown",
   "metadata": {},
   "source": [
    "Summer 22 - Set A"
   ]
  },
  {
   "cell_type": "code",
   "execution_count": 2,
   "metadata": {},
   "outputs": [
    {
     "name": "stdout",
     "output_type": "stream",
     "text": [
      "types:  Midterm\n",
      "Exam Type: Midterm\n",
      "Number of questions: 2\n",
      "Marks per questions: 10\n",
      "Total Marks: 10\n",
      "===========================\n",
      "types:  Final\n",
      "Exam Type: Final\n",
      "Number of questions: 3\n",
      "Marks per questions: 10\n",
      "Total Marks: 10\n"
     ]
    }
   ],
   "source": [
    "# Question 1\n",
    "class Exam:\n",
    "    def __init__(self, types, ques, marks):\n",
    "        self.types = types\n",
    "        print('types: ', types)\n",
    "        self.ques = ques\n",
    "        self.mark = marks\n",
    "        self.total = self.ques * self.mark\n",
    "\n",
    "    def detail(self):\n",
    "        print(f\"Exam Type: {self.types}\")\n",
    "        print(f\"Number of questions: {self.ques}\")\n",
    "        print(f\"Marks per questions: {self.mark}\")\n",
    "        return f\"Total Marks: {self.mark}\"\n",
    "\n",
    "\n",
    "e1 = Exam(\"Midterm\", 2, 10)\n",
    "print(e1.detail())\n",
    "print(\"===========================\")\n",
    "e2 = Exam(\"Final\", 3, 10)\n",
    "print(e2.detail())"
   ]
  },
  {
   "cell_type": "code",
   "execution_count": 3,
   "metadata": {},
   "outputs": [
    {
     "name": "stdout",
     "output_type": "stream",
     "text": [
      "43\n"
     ]
    }
   ],
   "source": [
    "print(7**2219 % 100)"
   ]
  },
  {
   "cell_type": "code",
   "execution_count": 4,
   "metadata": {},
   "outputs": [
    {
     "name": "stdout",
     "output_type": "stream",
     "text": [
      "1.############################\n",
      "ID Cable Box Status:\n",
      "Cable Box is: ON\n",
      "Channel: 0\n",
      "Volume: 3\n",
      "2.############################\n",
      "ID Cable Box Status:\n",
      "Cable Box is: ON\n",
      "Channel: 2\n",
      "Volume: 4\n",
      "3.############################\n",
      "ID Cable Box Status:\n",
      "Cable Box is: OFF\n",
      "4.############################\n",
      "ID Cable Box Status:\n",
      "Cable Box is: ON\n",
      "Channel: 3\n",
      "Volume: 8\n",
      "5.############################\n",
      "ID Cable Box Status:\n",
      "Cable Box is: ON\n",
      "Channel: 3\n",
      "Volume: 6\n",
      "6.############################\n",
      "Power is turned off. Channor change channel.\n",
      "Power is turned off. Channor change volume.\n",
      "ID Cable Box Status:\n",
      "Cable Box is: OFF\n",
      "7.############################\n",
      "TV channel does not exist.\n",
      "ID Cable Box Status:\n",
      "Cable Box is: ON\n",
      "Channel: 3\n",
      "Volume: 6\n"
     ]
    }
   ],
   "source": [
    "# Question 3\n",
    "class RickMote:\n",
    "    def __init__(self):\n",
    "        self.ch = [0, 2, 3, 6, 7, 9]\n",
    "        self.chan = 0\n",
    "        self.volume = 3\n",
    "        self.pow = False\n",
    "\n",
    "    def showInfo(self):\n",
    "        if self.pow:\n",
    "            print(f\"ID Cable Box Status:\")\n",
    "            print(f\"Cable Box is: ON\")\n",
    "            print(f\"Channel: {self.ch[self.chan]}\")\n",
    "            print(f\"Volume: {self.volume}\")\n",
    "        else:\n",
    "            print(f\"ID Cable Box Status:\")\n",
    "            print(f\"Cable Box is: OFF\")\n",
    "\n",
    "    def changeChannel(self, x=None):\n",
    "        if not (self.pow):\n",
    "            print(\"Power is turned off. Channor change channel.\")\n",
    "            return\n",
    "        if x == None:\n",
    "            if self.chan == 5:\n",
    "                self.chan = 0\n",
    "            else:\n",
    "                self.chan += 1\n",
    "        else:\n",
    "            if x in self.ch:\n",
    "                self.chan = self.ch.index(x)\n",
    "            else:\n",
    "                print(\"TV channel does not exist.\")\n",
    "\n",
    "    def changeVolumeLevel(self, x=None):\n",
    "        if not (self.pow):\n",
    "            print(\"Power is turned off. Channor change volume.\")\n",
    "            return\n",
    "        if x == None:\n",
    "            self.volume += 1\n",
    "        else:\n",
    "            self.volume += x\n",
    "\n",
    "    def power(self):\n",
    "        if self.pow:\n",
    "            self.pow = False\n",
    "        else:\n",
    "            self.pow = True\n",
    "\n",
    "\n",
    "oTV = RickMote()\n",
    "oTV.power()\n",
    "print(\"1.############################\")\n",
    "oTV.showInfo()\n",
    "print(\"2.############################\")\n",
    "oTV.changeChannel()\n",
    "oTV.changeVolumeLevel()\n",
    "oTV.showInfo()\n",
    "print(\"3.############################\")\n",
    "oTV.power()\n",
    "oTV.showInfo()\n",
    "print(\"4.############################\")\n",
    "oTV.power()\n",
    "oTV.changeVolumeLevel(4)\n",
    "oTV.changeChannel(3)\n",
    "oTV.showInfo()\n",
    "print(\"5.############################\")\n",
    "oTV.changeVolumeLevel(-2)\n",
    "oTV.showInfo()\n",
    "print(\"6.############################\")\n",
    "oTV.power()\n",
    "oTV.changeChannel(9)\n",
    "oTV.changeVolumeLevel(-1)\n",
    "oTV.showInfo()\n",
    "print(\"7.############################\")\n",
    "oTV.power()\n",
    "oTV.changeChannel(11)\n",
    "oTV.showInfo()"
   ]
  },
  {
   "cell_type": "markdown",
   "metadata": {},
   "source": [
    "Summer 22 - Set B - Code same as Set A\n",
    "\n",
    "---"
   ]
  },
  {
   "cell_type": "markdown",
   "metadata": {},
   "source": [
    "Fall 22 - Set A"
   ]
  },
  {
   "cell_type": "code",
   "execution_count": 5,
   "metadata": {},
   "outputs": [
    {
     "name": "stdout",
     "output_type": "stream",
     "text": [
      "Genre: Heavy Metal\n",
      "Song list: This Fire Burns, Here I Am\n"
     ]
    }
   ],
   "source": [
    "class Spotify:\n",
    "    def __init__(self, genre, *songs):\n",
    "        self.genre = genre\n",
    "        self.songs = []\n",
    "        for i in songs:\n",
    "            self.songs.append(i)\n",
    "\n",
    "    def show_playlist(self):\n",
    "        print(f\"Genre: {self.genre}\")\n",
    "        x = \"Song list: \"\n",
    "\n",
    "        for s in self.songs:\n",
    "            if s == self.songs[-1]:\n",
    "                x += s\n",
    "            else:\n",
    "                x += f\"{s}, \"\n",
    "\n",
    "        return x\n",
    "\n",
    "\n",
    "rock = Spotify(\"Heavy Metal\", \"This Fire Burns\", \"Here I Am\")\n",
    "print(rock.show_playlist())"
   ]
  },
  {
   "cell_type": "code",
   "execution_count": 6,
   "metadata": {},
   "outputs": [
    {
     "name": "stdout",
     "output_type": "stream",
     "text": [
      "1################################# \n",
      "Your 6-inch Hot spicy Regular Pizza is ready with Cheese,Pepperoni toppings. Enjoy!\n",
      "2================================\n",
      "3#################################\n",
      "No toppings specified! Can't bake pizza.\n",
      "4================================\n",
      "5#################################\n",
      "Your 12-inch  spicy Chicken Blast is ready with Mushroom toppings. Enjoy!\n",
      "6================================\n",
      "7#################################\n",
      "Sorry! Spice level not allowed. Can't bake pizza.\n",
      "8================================\n"
     ]
    }
   ],
   "source": [
    "# Question 03\n",
    "\n",
    "\n",
    "class PizzaMachine:\n",
    "    def __init__(self, name=\"Regular Pizza\", inch=6):\n",
    "        self.name = name\n",
    "        self.inch = inch\n",
    "\n",
    "    def customizePizza(self, *stuffs):\n",
    "        self.toppings = \"\"\n",
    "        if len(stuffs) == 2:\n",
    "            for i in stuffs[0]:\n",
    "                if i == stuffs[0][-1]:\n",
    "                    self.toppings += i\n",
    "                else:\n",
    "                    self.toppings += f\"{i},\"\n",
    "            self.spice = stuffs[1]\n",
    "        else:\n",
    "            if type(stuffs[0]) == str:\n",
    "                self.spice = stuffs[0]\n",
    "            if type(stuffs[0]) == list:\n",
    "                for i in stuffs[0]:\n",
    "                    if i == stuffs[0][-1]:\n",
    "                        self.toppings += i\n",
    "                    else:\n",
    "                        self.toppings += f\"{i},\"\n",
    "                self.spice = \"\"\n",
    "\n",
    "        if self.toppings == \"\":\n",
    "            return f\"No toppings specified! Can't bake pizza.\"\n",
    "        elif self.spice == \"Mild\":\n",
    "            return \"Sorry! Spice level not allowed. Can't bake pizza.\"\n",
    "        else:\n",
    "            return f\"Your {self.inch}-inch {self.spice} spicy {self.name} is ready with {self.toppings} toppings. Enjoy!\"\n",
    "\n",
    "\n",
    "pizza1 = PizzaMachine()\n",
    "order1 = pizza1.customizePizza([\"Cheese\", \"Pepperoni\"], \"Hot\")\n",
    "print(\"1################################# \")\n",
    "print(order1)\n",
    "print(\"2================================\")\n",
    "pizza2 = PizzaMachine(\"Vege\")\n",
    "order2 = pizza2.customizePizza(\"Super Naga\")\n",
    "print(\"3#################################\")\n",
    "print(order2)\n",
    "print(\"4================================\")\n",
    "pizza3 = PizzaMachine(\"Chicken Blast\", 12)\n",
    "order3 = pizza3.customizePizza([\"Mushroom\"])\n",
    "print(\"5#################################\")\n",
    "print(order3)\n",
    "print(\"6================================\")\n",
    "pizza4 = PizzaMachine(\"Beef Bonanza\", 16)\n",
    "order4 = pizza4.customizePizza([\"Cheese\", \"Beef kala bhuna\"], \"Mild\")\n",
    "print(\"7#################################\")\n",
    "print(order4)\n",
    "print(\"8================================\")"
   ]
  },
  {
   "cell_type": "markdown",
   "metadata": {},
   "source": [
    "Fall 22 - Set B - Code same as Set A\n",
    "\n",
    "---"
   ]
  },
  {
   "cell_type": "markdown",
   "metadata": {},
   "source": [
    "Spring 2023"
   ]
  },
  {
   "cell_type": "code",
   "execution_count": 7,
   "metadata": {},
   "outputs": [
    {
     "name": "stdout",
     "output_type": "stream",
     "text": [
      "Brand Name: Miyako\n",
      "Ingredients: Coffee beans, Milk, Sugar\n"
     ]
    }
   ],
   "source": [
    "class CoffeeMachine:\n",
    "    def __init__(self, brand) -> None:\n",
    "        self.brand = brand\n",
    "        print(f\"Brand Name: {self.brand}\")\n",
    "\n",
    "    def insertIngredients(self, *arg):\n",
    "        x = \"\"\n",
    "        for i in arg:\n",
    "            if i == arg[-1]:\n",
    "                x += i\n",
    "            else:\n",
    "                x += f\"{i}, \"\n",
    "\n",
    "        self.ind = x\n",
    "\n",
    "    def getDetails(self):\n",
    "        return f\"Ingredients: {self.ind}\"\n",
    "\n",
    "\n",
    "cm1 = CoffeeMachine(\"Miyako\")\n",
    "cm1.insertIngredients(\"Coffee beans\", \"Milk\", \"Sugar\")\n",
    "print(cm1.getDetails())"
   ]
  },
  {
   "cell_type": "code",
   "execution_count": 8,
   "metadata": {},
   "outputs": [
    {
     "name": "stdout",
     "output_type": "stream",
     "text": [
      "1***************\n",
      "Sphere ID: Sphere 1\n",
      "Color: White\n",
      "Volume: 2.3562\n",
      "2***************\n",
      "3***************\n",
      "Sphere ID: Sphere 2\n",
      "Color: White\n",
      "Volume: 63.617399999999996\n",
      "4***************\n",
      "5***************\n",
      "Sphere ID: Sphere 3\n",
      "Color: White\n",
      "Volume: 18.8496\n",
      "6***************\n",
      "Spheres are being merged\n",
      "7***************\n",
      "Sphere ID: Sphere 3\n",
      "Color: White\n",
      "Volume: 84.8232\n",
      "8***************\n",
      "9***************\n",
      "Spheres are being merged\n",
      "10***************\n",
      "Sphere ID: Sphere 4\n",
      "Color: Mixed Color\n",
      "Volume: 379.34819999999996\n"
     ]
    }
   ],
   "source": [
    "# Question 3\n",
    "\n",
    "\n",
    "class Sphere:\n",
    "    def __init__(self, name, rad=1, col=\"White\"):\n",
    "        self.name = name\n",
    "        self.rad = rad\n",
    "        self.color = col\n",
    "        self.vol = 3 / 4 * 3.1416 * rad**3\n",
    "\n",
    "    def printDetails(self):\n",
    "        print(f\"Sphere ID: {self.name}\")\n",
    "        print(f\"Color: {self.color}\")\n",
    "        print(f\"Volume: {self.vol}\")\n",
    "\n",
    "    def merge_sphere(self, *objs):\n",
    "        for instance in objs:\n",
    "            self.vol += instance.vol\n",
    "            if self.color != instance.color or instance.color == \"Mixed Color\":\n",
    "                self.color = \"Mixed Color\"\n",
    "\n",
    "        print(f\"Spheres are being merged\")\n",
    "\n",
    "\n",
    "sphere1 = Sphere(\"Sphere 1\")\n",
    "print(\"1***************\")\n",
    "sphere1.printDetails()\n",
    "print(\"2***************\")\n",
    "sphere2 = Sphere(\"Sphere 2\", 3)\n",
    "print(\"3***************\")\n",
    "sphere2.printDetails()\n",
    "print(\"4***************\")\n",
    "sphere3 = Sphere(\"Sphere 3\", 2)\n",
    "print(\"5***************\")\n",
    "sphere3.printDetails()\n",
    "print(\"6***************\")\n",
    "sphere3.merge_sphere(sphere1, sphere2)\n",
    "print(\"7***************\")\n",
    "sphere3.printDetails()\n",
    "print(\"8***************\")\n",
    "sphere4 = Sphere(\"Sphere 4\", 5, \"Purple\")\n",
    "print(\"9***************\")\n",
    "sphere4.merge_sphere(sphere3)\n",
    "print(\"10***************\")\n",
    "sphere4.printDetails()"
   ]
  }
 ],
 "metadata": {
  "kernelspec": {
   "display_name": "Python 3",
   "language": "python",
   "name": "python3"
  },
  "language_info": {
   "codemirror_mode": {
    "name": "ipython",
    "version": 3
   },
   "file_extension": ".py",
   "mimetype": "text/x-python",
   "name": "python",
   "nbconvert_exporter": "python",
   "pygments_lexer": "ipython3",
   "version": "3.13.0"
  }
 },
 "nbformat": 4,
 "nbformat_minor": 2
}

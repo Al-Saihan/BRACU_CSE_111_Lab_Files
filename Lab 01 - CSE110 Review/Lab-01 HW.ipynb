{
 "cells": [
  {
   "cell_type": "markdown",
   "metadata": {},
   "source": [
    "User Defined Functions:"
   ]
  },
  {
   "cell_type": "code",
   "execution_count": 53,
   "metadata": {},
   "outputs": [],
   "source": [
    "#Get Index\n",
    "def ind(value , x):\n",
    "    count = 0\n",
    "    for i in value:\n",
    "        if x == i:\n",
    "            return count\n",
    "        else:\n",
    "            count += 1\n",
    "\n",
    "#Bubble Sorting : Ascending Order\n",
    "def sorting(li):\n",
    "  n = len(li)\n",
    "  \n",
    "  for i in range(n):\n",
    "    for j in range(n-i-1):\n",
    "      if li[j] > li[j+1]:\n",
    "        li[j] , li[j+1] = li[j+1] , li[j]\n",
    "      \n",
    "  return li\n",
    "\n",
    "#Return Uppercase String\n",
    "def uppercase(string1):\n",
    "    output = ''\n",
    "    for i in string1:\n",
    "        if ord(\"a\") <= ord(i) <= ord(\"z\"):\n",
    "            output += chr(ord(i) - 32)\n",
    "        else:\n",
    "            output += i\n",
    "            \n",
    "    return output\n",
    "\n",
    "#Return Lowercase String\n",
    "def lowercase(string1):\n",
    "    output = ''\n",
    "    for i in string1:\n",
    "        if ord(\"A\") <= ord(i) <= ord(\"Z\"):\n",
    "            output += chr(ord(i) + 32)\n",
    "        else:\n",
    "            output += i\n",
    "            \n",
    "    return output\n",
    "\n",
    "#Spliting a string into a list [The items will be in String]\n",
    "def splitingSTR(string1, divider):\n",
    "    list1 = []\n",
    "    x = ''\n",
    "    string1 += divider\n",
    "    for i in string1:\n",
    "        if i == divider:\n",
    "            list1.append(x)\n",
    "            x = ''\n",
    "        else:\n",
    "            x += i\n",
    "    return list1\n",
    "\n",
    "#Spliting a string into a list [The items will be in Integer]\n",
    "def splitingINT(string1, divider):\n",
    "    list1 = []\n",
    "    x = ''\n",
    "    string1 += divider\n",
    "    for i in string1:\n",
    "        if i == divider:\n",
    "            list1.append(int(x))\n",
    "            x = ''\n",
    "        else:\n",
    "            x += i\n",
    "    return list1"
   ]
  },
  {
   "cell_type": "markdown",
   "metadata": {},
   "source": [
    "String - Assignments:"
   ]
  },
  {
   "cell_type": "code",
   "execution_count": 2,
   "metadata": {},
   "outputs": [
    {
     "name": "stdout",
     "output_type": "stream",
     "text": [
      "BANANA\n"
     ]
    }
   ],
   "source": [
    "#Task 1\n",
    "#Return Uppercase String\n",
    "def uppercase(string1):\n",
    "    output = ''\n",
    "    for i in string1:\n",
    "        if ord(\"a\") <= ord(i) <= ord(\"z\"):\n",
    "            output += chr(ord(i) - 32)\n",
    "        else:\n",
    "            output += i\n",
    "            \n",
    "    return output\n",
    "\n",
    "#Return Lowercase String\n",
    "def lowercase(string1):\n",
    "    output = ''\n",
    "    for i in string1:\n",
    "        if ord(\"A\") <= ord(i) <= ord(\"Z\"):\n",
    "            output += chr(ord(i) + 32)\n",
    "        else:\n",
    "            output += i\n",
    "            \n",
    "    return output\n",
    "\n",
    "sample = input()\n",
    "lowercases = 0\n",
    "\n",
    "for i in sample:\n",
    "  if ord(\"a\") <= ord(i) <= ord('z'):\n",
    "    lowercases += 1\n",
    "\n",
    "if lowercases >= (len(sample) / 2):\n",
    "  print(lowercase(sample))\n",
    "else:\n",
    "  print(uppercase(sample))"
   ]
  },
  {
   "cell_type": "code",
   "execution_count": 5,
   "metadata": {},
   "outputs": [
    {
     "name": "stdout",
     "output_type": "stream",
     "text": [
      "MIXED\n"
     ]
    }
   ],
   "source": [
    "#Task 2\n",
    "sample = input()\n",
    "numCount = 0\n",
    "\n",
    "for i in sample:\n",
    "  if ord(\"0\") <= ord(i) <= ord(\"9\"):\n",
    "    numCount += 1\n",
    "\n",
    "if numCount == 0:\n",
    "  print(\"WORD\")\n",
    "elif numCount == len(sample):\n",
    "  print(\"NUMBER\")\n",
    "else:\n",
    "  print(\"MIXED\")\n"
   ]
  },
  {
   "cell_type": "code",
   "execution_count": 7,
   "metadata": {},
   "outputs": [
    {
     "name": "stdout",
     "output_type": "stream",
     "text": [
      "BLANK\n"
     ]
    }
   ],
   "source": [
    "#Task 3\n",
    "numFlag = 0\n",
    "sample = input()\n",
    "x = \"\"\n",
    "\n",
    "for i in sample:\n",
    "  if ord(\"A\") <= ord(i) <= ord(\"Z\"):\n",
    "    numFlag += 1\n",
    "    continue\n",
    "  if numFlag == 1:\n",
    "    x += i\n",
    "\n",
    "if x == \"\":\n",
    "  print(\"BLANK\")\n",
    "else:\n",
    "  print(x)"
   ]
  },
  {
   "cell_type": "code",
   "execution_count": 8,
   "metadata": {},
   "outputs": [
    {
     "name": "stdout",
     "output_type": "stream",
     "text": [
      "hrrhr\n"
     ]
    }
   ],
   "source": [
    "#Task 4\n",
    "def splitingSTR(string1, divider):\n",
    "    list1 = []\n",
    "    x = ''\n",
    "    string1 += divider\n",
    "    for i in string1:\n",
    "        if i == divider:\n",
    "            list1.append(x)\n",
    "            x = ''\n",
    "        else:\n",
    "            x += i\n",
    "    return list1\n",
    "\n",
    "sample = splitingSTR(input() , \",\")\n",
    "s1 = sample[0]\n",
    "s2 = sample[1]\n",
    "x = \"\"\n",
    "\n",
    "for i in s1:\n",
    "  if i in s2:\n",
    "    x += i\n",
    "\n",
    "for i in s2:\n",
    "  if i in s1:\n",
    "    x += i\n",
    "\n",
    "if x == \"\":\n",
    "  print(\"Nothing in common.\")\n",
    "else:\n",
    "  print(x)"
   ]
  },
  {
   "cell_type": "code",
   "execution_count": 21,
   "metadata": {},
   "outputs": [
    {
     "name": "stdout",
     "output_type": "stream",
     "text": [
      "OK\n"
     ]
    }
   ],
   "source": [
    "#Task 5\n",
    "\n",
    "# False = 0\n",
    "# True = 1\n",
    "\n",
    "upper , lower , num , special = 0, 0, 0, 0\n",
    "password = input()\n",
    "\n",
    "for i in password:\n",
    "    if ord(\"a\") <= ord(i) <= ord(\"z\"):\n",
    "        lower = 1\n",
    "    elif ord(\"A\") <= ord(i) <= ord(\"Z\"):\n",
    "        upper = 1\n",
    "    elif ord(\"0\") <= ord(i) <= ord(\"9\"):\n",
    "        num = 1\n",
    "    elif i in \"_$#@\":\n",
    "        special = 1\n",
    "    \n",
    "output = \"\"\n",
    "\n",
    "if upper == 0:\n",
    "    output += (\"Uppercase character missing, \")\n",
    "\n",
    "if lower == 0:\n",
    "    output += (\"Lowercase character missing, \")\n",
    "\n",
    "if num == 0:\n",
    "    output += (\"Digits missing, \")\n",
    "\n",
    "if special == 0:\n",
    "    output += (\"Special character missing, \")\n",
    "    \n",
    "if output == '':\n",
    "    print(\"OK\")\n",
    "    \n",
    "else:\n",
    "    output = output [ 0 : len(output) - 2 ]\n",
    "    print( output )"
   ]
  },
  {
   "cell_type": "markdown",
   "metadata": {},
   "source": [
    "List - Assignments:"
   ]
  },
  {
   "cell_type": "code",
   "execution_count": 13,
   "metadata": {},
   "outputs": [
    {
     "name": "stdout",
     "output_type": "stream",
     "text": [
      "1 - 1 times\n",
      "2 - 1 times\n",
      "3 - 1 times\n",
      "4 - 2 times\n",
      "5 - 1 times\n",
      "8 - 1 times\n"
     ]
    }
   ],
   "source": [
    "#Task 1\n",
    "li = []\n",
    "checker = []\n",
    "\n",
    "while True:\n",
    "    a = input()\n",
    "    if a == \"STOP\":\n",
    "        break\n",
    "    li.append(int(a))\n",
    "x\n",
    "for i in li:\n",
    "    count = 0\n",
    "    \n",
    "    if i not in checker:\n",
    "        \n",
    "        for j in li:\n",
    "            \n",
    "            if i == j:\n",
    "                count += 1\n",
    "                \n",
    "        print(f\"{i} - {count} times\")\n",
    "        \n",
    "        checker.append(i)"
   ]
  },
  {
   "cell_type": "code",
   "execution_count": null,
   "metadata": {},
   "outputs": [],
   "source": [
    "#Task 2\n",
    "\n",
    "#Spliting a string into a list [The items will be in Integer]\n",
    "def splitingINT(string1, divider):\n",
    "    list1 = []\n",
    "    x = ''\n",
    "    string1 += divider\n",
    "    for i in string1:\n",
    "        if i == divider:\n",
    "            list1.append(int(x))\n",
    "            x = ''\n",
    "        else:\n",
    "            x += i\n",
    "    return list1\n",
    "  \n",
    "iteration = int(input())\n",
    "maxSum = None\n",
    "\n",
    "for i in range(iteration):\n",
    "  total = 0\n",
    "  li = splitingINT(input() , \" \")\n",
    "\n",
    "  for i in li:\n",
    "    total += i\n",
    "  \n",
    "  if maxSum == None or total > maxSum:\n",
    "    maxSum = total\n",
    "    maxL = li\n",
    "\n",
    "print(maxSum)\n",
    "print(maxL)"
   ]
  },
  {
   "cell_type": "code",
   "execution_count": null,
   "metadata": {},
   "outputs": [
    {
     "name": "stdout",
     "output_type": "stream",
     "text": [
      "[6, 8, 10, 9, 12, 15, 18, 24, 30]\n"
     ]
    }
   ],
   "source": [
    "#Task 3\n",
    "#Spliting a string into a list [The items will be in Integer]\n",
    "def splitingINT(string1, divider):\n",
    "    list1 = []\n",
    "    x = ''\n",
    "    string1 += divider\n",
    "    for i in string1:\n",
    "        if i == divider:\n",
    "            list1.append(int(x))\n",
    "            x = ''\n",
    "        else:\n",
    "            x += i\n",
    "    return list1\n",
    "    \n",
    "l1 = splitingINT(input() , \" \")\n",
    "l2 = splitingINT(input() , \" \")\n",
    "\n",
    "output = []\n",
    "\n",
    "for i in l1:\n",
    "    for j in l2:\n",
    "        output.append(i*j)\n",
    "        \n",
    "        \n",
    "print(output)"
   ]
  },
  {
   "cell_type": "code",
   "execution_count": 20,
   "metadata": {},
   "outputs": [
    {
     "name": "stdout",
     "output_type": "stream",
     "text": [
      "Ub Jumper\n",
      "Ub Jumper\n",
      "Not UB Jumper\n"
     ]
    }
   ],
   "source": [
    "#Task 4 \n",
    "\n",
    "#Spliting a string into a list [The items will be in Integer]\n",
    "def splitingINT(string1, divider):\n",
    "    list1 = []\n",
    "    x = ''\n",
    "    string1 += divider\n",
    "    for i in string1:\n",
    "        if i == divider:\n",
    "            list1.append(int(x))\n",
    "            x = ''\n",
    "        else:\n",
    "            x += i\n",
    "    return list1\n",
    "\n",
    "def absolute(num):\n",
    "    if (str(num))[0] == \"-\":\n",
    "        return int((str(num))[1::])\n",
    "    return num\n",
    "\n",
    "while True:\n",
    "  sample = input()\n",
    "  if sample == \"STOP\":\n",
    "    break\n",
    "  li = splitingINT(sample , \" \")\n",
    "\n",
    "  flag= True\n",
    "  differences = \"\"\n",
    "  mark = \"\"\n",
    "\n",
    "  for i in range(1 , len(li)):\n",
    "      differences += str( absolute( li[i] - li[i-1] ) )\n",
    "\n",
    "  for i in range(1,len(li)):\n",
    "      mark += str(i)\n",
    "\n",
    "  for i in mark:\n",
    "      if i not in differences:\n",
    "          flag = False\n",
    "          break\n",
    "\n",
    "  if flag:\n",
    "      print(\"Ub Jumper\")\n",
    "  else:\n",
    "      print(\"Not UB Jumper\")"
   ]
  },
  {
   "cell_type": "code",
   "execution_count": 22,
   "metadata": {},
   "outputs": [
    {
     "name": "stdout",
     "output_type": "stream",
     "text": [
      "2\n"
     ]
    }
   ],
   "source": [
    "#Task 5\n",
    "#Spliting a string into a list [The items will be in Integer]\n",
    "def splitingINT(string1, divider):\n",
    "    list1 = []\n",
    "    x = ''\n",
    "    string1 += divider\n",
    "    for i in string1:\n",
    "        if i == divider:\n",
    "            list1.append(int(x))\n",
    "            x = ''\n",
    "        else:\n",
    "            x += i\n",
    "    return list1\n",
    "\n",
    "n , k = splitingINT(input() , \" \")\n",
    "\n",
    "sample = splitingINT(input() , \" \")\n",
    "member = []\n",
    "\n",
    "for i in range(n):\n",
    "    if (5-sample[i]) >= k:\n",
    "        member.append(1)\n",
    "        \n",
    "print(len(member) // 3)\n"
   ]
  },
  {
   "cell_type": "markdown",
   "metadata": {},
   "source": [
    "Dictionary & Tuple - Assignments:"
   ]
  },
  {
   "cell_type": "code",
   "execution_count": null,
   "metadata": {},
   "outputs": [
    {
     "name": "stdout",
     "output_type": "stream",
     "text": [
      "{'a': 400, ' b': 300, ' c': 200, ' d': 700, ' e': 200}\n",
      "Values: (200, 300, 400, 700)\n"
     ]
    }
   ],
   "source": [
    "#Task 1\n",
    "\n",
    "def splitingSTR(string1, divider):\n",
    "    list1 = []\n",
    "    x = ''\n",
    "    string1 += divider\n",
    "    for i in string1:\n",
    "        if i == divider:\n",
    "            list1.append(x)\n",
    "            x = ''\n",
    "        else:\n",
    "            x += i\n",
    "    return list1\n",
    "  \n",
    "#Bubble Sorting : Ascending Order\n",
    "def sorting(li):\n",
    "  n = len(li)\n",
    "  \n",
    "  for i in range(n):\n",
    "    for j in range(n-i-1):\n",
    "      if li[j] > li[j+1]:\n",
    "        li[j] , li[j+1] = li[j+1] , li[j]\n",
    "      \n",
    "  return li\n",
    "\n",
    "sample1 = splitingSTR(input(), \",\")\n",
    "sample2 = splitingSTR(input(), \",\")\n",
    "output = {}\n",
    "\n",
    "\n",
    "for i in sample1:\n",
    "  key , value = splitingSTR(i , \":\")\n",
    "  output[key] = int(value)\n",
    "  \n",
    "for i in sample2:\n",
    "  key , value = splitingSTR(i , \":\")\n",
    "  if key in output:\n",
    "    output[key] += int(value)\n",
    "  else:\n",
    "    output[key] = int(value)\n",
    "  \n",
    "li = []\n",
    "for i in output.values():\n",
    "  if i not in li:\n",
    "    li.append(i)\n",
    "    \n",
    "finalOutput = sorting(li)\n",
    "\n",
    "print(output)\n",
    "print(f'Values: {tuple(finalOutput)}')"
   ]
  },
  {
   "cell_type": "code",
   "execution_count": 24,
   "metadata": {},
   "outputs": [
    {
     "name": "stdout",
     "output_type": "stream",
     "text": [
      "1 - 2 times\n",
      "2 - 3 times\n",
      "3 - 2 times\n"
     ]
    }
   ],
   "source": [
    "#Task 2\n",
    "dict0 = {}\n",
    "\n",
    "while True:\n",
    "    a = input()\n",
    "    if a == \"STOP\":\n",
    "        break\n",
    "    \n",
    "    if a in dict0:\n",
    "        dict0[a] += 1\n",
    "    else:\n",
    "        dict0[a] = 1\n",
    "    \n",
    "for key , value in dict0.items(): print(f\"{key} - {value} times\")\n",
    " "
   ]
  },
  {
   "cell_type": "code",
   "execution_count": null,
   "metadata": {},
   "outputs": [
    {
     "name": "stdout",
     "output_type": "stream",
     "text": [
      "{' value1': ['key1 ', ' key3 '], ' value2': [' key2 ']}\n"
     ]
    }
   ],
   "source": [
    "#Task 3 ***********\n",
    "\n",
    "def splitingSTR(string1, divider):\n",
    "    list1 = []\n",
    "    x = ''\n",
    "    string1 += divider\n",
    "    for i in string1:\n",
    "        if i == divider:\n",
    "            list1.append(x)\n",
    "            x = ''\n",
    "        else:\n",
    "            x += i\n",
    "    return list1\n",
    "\n",
    "sample = splitingSTR(input() , \",\")\n",
    "dict0 = {}\n",
    "\n",
    "for i in sample:\n",
    "    value , key = splitingSTR(i , \":\")\n",
    "    \n",
    "    if key in dict0:\n",
    "        dict0[key].append(value)\n",
    "    else:\n",
    "        dict0[key] = [value]\n",
    "        \n",
    "print(dict0)"
   ]
  },
  {
   "cell_type": "code",
   "execution_count": null,
   "metadata": {},
   "outputs": [
    {
     "name": "stdout",
     "output_type": "stream",
     "text": [
      "4433555555666110966677755531111\n"
     ]
    }
   ],
   "source": [
    "#Task 4\n",
    "\n",
    "#Get Index\n",
    "def ind(value , x):\n",
    "    count = 0\n",
    "    for i in value:\n",
    "        if x == i:\n",
    "            return count\n",
    "        else:\n",
    "            count += 1 \n",
    "\n",
    "def uppercase(string1):\n",
    "    output = ''\n",
    "    for i in string1:\n",
    "        if ord(\"a\") <= ord(i) <= ord(\"z\"):\n",
    "            output += chr(ord(i) - 32)\n",
    "        else:\n",
    "            output += i\n",
    "            \n",
    "    return output\n",
    "       \n",
    "mobilePad = {\"1\" : \".,?!:\" ,\n",
    "             \"2\" : \"ABC\"   ,\n",
    "             \"3\" : \"DEF\"   ,\n",
    "             \"4\" : \"GHI\"   ,\n",
    "             \"5\" : \"JKL\"   ,\n",
    "             \"6\" : \"MNO\"   ,\n",
    "             \"7\" : \"PQRS\"  ,\n",
    "             \"8\" : \"TUV\"   ,\n",
    "             \"9\" : \"WXYZ\"  ,\n",
    "             \"0\" : \" \"      }\n",
    "\n",
    "sample = uppercase(input())\n",
    "\n",
    "output = \"\"\n",
    "\n",
    "for char in sample: # \"H\" E L L O\n",
    "    for key , value in mobilePad.items():\n",
    "        if char in value:\n",
    "            press = ind(value, char) + 1\n",
    "            output += (press * key)\n",
    "    \n",
    "print(output) "
   ]
  },
  {
   "cell_type": "code",
   "execution_count": 23,
   "metadata": {},
   "outputs": [
    {
     "name": "stdout",
     "output_type": "stream",
     "text": [
      "ajsdlkjaslkj#434K\n"
     ]
    }
   ],
   "source": [
    "print(password)"
   ]
  }
 ],
 "metadata": {
  "kernelspec": {
   "display_name": "Python 3",
   "language": "python",
   "name": "python3"
  },
  "language_info": {
   "codemirror_mode": {
    "name": "ipython",
    "version": 3
   },
   "file_extension": ".py",
   "mimetype": "text/x-python",
   "name": "python",
   "nbconvert_exporter": "python",
   "pygments_lexer": "ipython3",
   "version": "3.11.6"
  }
 },
 "nbformat": 4,
 "nbformat_minor": 2
}

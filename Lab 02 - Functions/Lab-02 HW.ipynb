{
 "cells": [
  {
   "cell_type": "code",
   "execution_count": 1,
   "metadata": {},
   "outputs": [
    {
     "name": "stdout",
     "output_type": "stream",
     "text": [
      "Highest fee was 1000 tk\n",
      "Which was paid by Neymar, Bale.\n"
     ]
    }
   ],
   "source": [
    "#Home Task 1: Hospital Fee\n",
    "\n",
    "def hospital_fee(**feeList):\n",
    "    rich = \"\"\n",
    "    maxMoney = 0\n",
    "    \n",
    "    for key in feeList.keys():\n",
    "        if feeList[key] > maxMoney:\n",
    "            maxMoney = feeList[key]\n",
    "            \n",
    "    for name in feeList.keys():\n",
    "        if feeList[name] == maxMoney:\n",
    "            rich += (name + \", \")\n",
    "            \n",
    "    return (maxMoney , rich)\n",
    "    \n",
    "max_amount , max_payer = hospital_fee(Neymar = 1000, Dembele = 600,\n",
    "                                       Reus = 500, Bale = 1000)\n",
    "\n",
    "print(f\"Highest fee was {max_amount} tk\")\n",
    "print(f\"Which was paid by {max_payer[:len(max_payer)-2]}.\")"
   ]
  },
  {
   "cell_type": "code",
   "execution_count": 5,
   "metadata": {},
   "outputs": [
    {
     "data": {
      "text/plain": [
       "True"
      ]
     },
     "execution_count": 5,
     "metadata": {},
     "output_type": "execute_result"
    }
   ],
   "source": [
    "#Home Task 2: 007\n",
    "def is_james_bond(list0):\n",
    "    holder = ''\n",
    "    \n",
    "    for i in list0:\n",
    "        if i == 0 or i == 7 :\n",
    "            holder += str(i)\n",
    "\n",
    "    if \"007\" in holder:\n",
    "        return True\n",
    "    return False\n",
    "\n",
    "is_james_bond( [1, 2, 4, 0, 0, 7, 5] )"
   ]
  },
  {
   "cell_type": "code",
   "execution_count": null,
   "metadata": {},
   "outputs": [],
   "source": [
    "#Home Task 3: Section Assigning\n",
    "\n",
    "def assign_students_to_sections(sections , *students):\n",
    "    dict0 = {}\n",
    "    for i in sections:\n",
    "        dict0[i] = []\n",
    "        \n",
    "    for name in students:\n",
    "        total = 0\n",
    "        for i in name:\n",
    "            total += ord(i)\n",
    "        num = total % 5\n",
    "        \n",
    "        dict0[sections[num]].append(name)\n",
    "\n",
    "    return dict0\n",
    "\n",
    "print(assign_students_to_sections('ABCDE', 'Alice', 'Bob', 'Charlie',\n",
    "'David', 'Eve', 'Frank', 'Grace') )"
   ]
  },
  {
   "cell_type": "code",
   "execution_count": 7,
   "metadata": {},
   "outputs": [
    {
     "name": "stdout",
     "output_type": "stream",
     "text": [
      "JAHlam_1231\n"
     ]
    }
   ],
   "source": [
    "#Home Task 4: Username Generator ***********\n",
    "\n",
    "def username_generator(first, last, ID, middle = \"\"):\n",
    "    \n",
    "    first = first[:3].upper()\n",
    "    last = last[len(last) - 3:].lower()\n",
    "    ID = str(ID)\n",
    "    ID = ID[len(ID) - 4:]\n",
    "    \n",
    "    return (first + middle + last + \"_\" + ID)\n",
    "\n",
    "first_name, middle_name, last_name, student_id = (input(\"First Name:\"),\n",
    "                                                  input(\"Middle Name:\"),\n",
    "                                                  input(\"Last Name:\"), \n",
    "                                                  int(input(\"Student ID:\")) )\n",
    "\n",
    "print(username_generator(first_name, last_name, student_id, middle_name))"
   ]
  },
  {
   "cell_type": "code",
   "execution_count": 2,
   "metadata": {},
   "outputs": [
    {
     "name": "stdout",
     "output_type": "stream",
     "text": [
      "Encrypted Keys: ['a101108X', 'b111B', 't100117114Y']\n"
     ]
    }
   ],
   "source": [
    "# Home Task 5: Key Generator\n",
    "def key_generator(*names):\n",
    "    list0 = []\n",
    "    for employee in names:\n",
    "        f = employee[0].lower()\n",
    "        l = employee[-1].upper()\n",
    "        mid = employee[ -2 : -len(employee) : -1 ] # Reverse Slicing\n",
    "        num = \"\"\n",
    "        for i in mid:\n",
    "            num += str(ord(i))\n",
    "        list0.append(f + num + l)\n",
    "    \n",
    "    return list0\n",
    "\n",
    "key_list = key_generator(\"Alex\", \"Bob\", \"Trudy\")\n",
    "print(\"Encrypted Keys:\" , key_list)"
   ]
  },
  {
   "cell_type": "code",
   "execution_count": null,
   "metadata": {},
   "outputs": [],
   "source": [
    "#Home Task 6: Rock-Paper-Scissor\n",
    "import random\n",
    "\n",
    "def playRockPaperScissor(rounds):\n",
    "    moves = [\"rock\" , \"paper\" , \"scissor\"]\n",
    "    cpoint = 0\n",
    "    ppoint = 0\n",
    "    for i in range(rounds):\n",
    "        \n",
    "        cPick = random.choice(moves)\n",
    "        pPick = input()\n",
    "        result = pPick + cPick\n",
    "        print(f\"Computer: {cPick}\")\n",
    "        \n",
    "        if result == 'rockscissor' or result == 'scissorpaper' or result == 'paperrock':\n",
    "            ppoint += 1\n",
    "        if result == 'scissorrock' or result == 'paperscissor' or result == 'rockpaper':\n",
    "            cpoint += 1\n",
    "    \n",
    "    return (cpoint , ppoint)\n",
    "\n",
    "cPoint , pPoint = playRockPaperScissor(int(input()))\n",
    "\n",
    "print(f\"Your Score: {pPoint}\")\n",
    "print(f\"Computer's Score: {cPoint}\")\n",
    "\n",
    "if pPoint > cPoint:\n",
    "    print(\"You have won the game!\")\n",
    "elif cPoint > pPoint:\n",
    "    print(\"Computer has won the game!\")\n",
    "else:\n",
    "    print(\"A Tie!\")"
   ]
  }
 ],
 "metadata": {
  "kernelspec": {
   "display_name": "Python 3",
   "language": "python",
   "name": "python3"
  },
  "language_info": {
   "codemirror_mode": {
    "name": "ipython",
    "version": 3
   },
   "file_extension": ".py",
   "mimetype": "text/x-python",
   "name": "python",
   "nbconvert_exporter": "python",
   "pygments_lexer": "ipython3",
   "version": "3.11.6"
  }
 },
 "nbformat": 4,
 "nbformat_minor": 2
}
